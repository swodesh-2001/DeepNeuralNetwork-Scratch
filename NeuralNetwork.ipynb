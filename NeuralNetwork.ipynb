{
 "cells": [
  {
   "cell_type": "markdown",
   "metadata": {},
   "source": [
    "# Neural Network From Scratch"
   ]
  },
  {
   "cell_type": "markdown",
   "metadata": {},
   "source": [
    "In this notebook I will be creating Neural Network from scratch. All the material and references are from `DeepLearning.Ai` Specialization Course."
   ]
  },
  {
   "cell_type": "markdown",
   "metadata": {},
   "source": [
    "First I will import the numpy library"
   ]
  },
  {
   "cell_type": "code",
   "execution_count": 1,
   "metadata": {},
   "outputs": [],
   "source": [
    "import numpy as np"
   ]
  },
  {
   "cell_type": "markdown",
   "metadata": {},
   "source": [
    "We will create a one hidden layer network.\n",
    "\n",
    "It will have `n_x` input, `n_h` nodes in the hidden layer and 1 output ."
   ]
  },
  {
   "cell_type": "code",
   "execution_count": 4,
   "metadata": {},
   "outputs": [],
   "source": [
    "def initialize_wights(n_x,n_h):\n",
    "    # Weight of the W1 will be (n_h,n_x)\n",
    "    # Multiplied with 0.01 to make it near zero and help in training\n",
    "    W1 = np.random.randn(n_h,n_x) * 0.01\n",
    "    b1 = np.random.randn(n_h,1) * 0.01\n",
    "    W2 = np.random.randn(1,n_h) * 0.01\n",
    "    b2 = np.random.randn(1,1) * 0.01\n",
    "\n",
    "    parameters = {\n",
    "        \"W1\" : W1,\n",
    "        \"b1\" : b1,\n",
    "        \"W2\" : W2,\n",
    "        \"b2\" : b2\n",
    "    }\n",
    "\n",
    "    return parameters\n"
   ]
  },
  {
   "cell_type": "code",
   "execution_count": 9,
   "metadata": {},
   "outputs": [],
   "source": [
    "def sigmoid(x):\n",
    "    output = 1 / (1 + np.exp(-x))\n",
    "    return output"
   ]
  },
  {
   "cell_type": "code",
   "execution_count": 10,
   "metadata": {},
   "outputs": [],
   "source": [
    "def relu(x):\n",
    "    output = np.maximum(0,x)\n",
    "    return output"
   ]
  },
  {
   "cell_type": "code",
   "execution_count": 21,
   "metadata": {},
   "outputs": [],
   "source": [
    "def forward_pass(X , parameters) :\n",
    "    z1 = np.dot(parameters['W1'],X) + parameters['b1']\n",
    "    a1 = relu(z1)\n",
    "    z2 = np.dot(parameters['W2'], a1) + parameters['b2']\n",
    "    a2 = sigmoid(z2)\n",
    "    return a2"
   ]
  },
  {
   "cell_type": "markdown",
   "metadata": {},
   "source": [
    "## Now for L layer Deep Neural Network"
   ]
  },
  {
   "cell_type": "code",
   "execution_count": 30,
   "metadata": {},
   "outputs": [],
   "source": [
    "def initialize_wights_deep(layer_list):\n",
    "\n",
    "    # layer_list contains the info of the neural network\n",
    "    # It can be like [3,4,5,1]\n",
    "    # This means the input is 3, there are two hidden layers with 4 and 5 nodes respectively and 1 output\n",
    "\n",
    "    parameters = {}\n",
    "    no_layers = len(layer_list)\n",
    "\n",
    "    for l in range(1, no_layers) :\n",
    "        parameters[\"W\" + str(l)] = np.random.randn(layer_list[l],layer_list[l-1]) * 0.01\n",
    "        parameters[\"b\" + str(l)] = np.random.randn(layer_list[l],1) * 0.01\n",
    "        \n",
    "    return parameters\n"
   ]
  },
  {
   "cell_type": "markdown",
   "metadata": {},
   "source": [
    "Now doing forward pass in deep layers"
   ]
  },
  {
   "cell_type": "code",
   "execution_count": 38,
   "metadata": {},
   "outputs": [],
   "source": [
    "def deep_forward(X,parameters):\n",
    "    no_weights = len(parameters)//2\n",
    "    A_temp = X\n",
    "    for l in range(1,no_weights):\n",
    "        z = np.dot(parameters[\"W\" + str(l)], A_temp) \n",
    "        a = relu(z)\n",
    "        A_temp = a\n",
    "    \n",
    "    Z = np.dot(parameters[\"W\" + str(no_weights)], A_temp)\n",
    "    A = sigmoid(Z)\n",
    "    return A"
   ]
  },
  {
   "cell_type": "code",
   "execution_count": 39,
   "metadata": {},
   "outputs": [],
   "source": [
    "layer_list = [3,4,5,6,7,8,9,1]\n",
    "\n",
    "parameters = initialize_wights_deep(layer_list)\n",
    "x  = np.random.randn(3,1)"
   ]
  },
  {
   "cell_type": "code",
   "execution_count": 40,
   "metadata": {},
   "outputs": [
    {
     "data": {
      "text/plain": [
       "array([[0.5]])"
      ]
     },
     "execution_count": 40,
     "metadata": {},
     "output_type": "execute_result"
    }
   ],
   "source": [
    "deep_forward(X= x , parameters= parameters)"
   ]
  },
  {
   "cell_type": "markdown",
   "metadata": {},
   "source": [
    "Cost Function is` mean square error`\n",
    "\n",
    "$$ \\text{MSE} = \\frac{1}{n} \\sum_{i=1}^{n} (y_i - \\hat{y}_i)^2 $$\n",
    "\n",
    "where:\n",
    "- $ n $ is the number of data points,\n",
    "- $ y_i $ is the actual value of the $i$-th data point,\n",
    "- $ \\hat{y}_i $ is the predicted value of the $i$-th data point.\n",
    "\n",
    "For a single datapoint (i.e., $ n = 1 $), the formula simplifies to:\n",
    "\n",
    "$$ \\text{MSE} = (y - \\hat{y})^2 $$\n",
    "\n",
    "where:\n",
    "- $ y $ is the actual value,\n",
    "- $ \\hat{y} $ is the predicted value."
   ]
  },
  {
   "cell_type": "code",
   "execution_count": null,
   "metadata": {},
   "outputs": [],
   "source": [
    "def cost_function(Y, AL) :\n",
    "    # Y is the target\n",
    "    # AL is the predicted output\n",
    "    error = Y - AL\n",
    "    # we will use mean square error\n",
    "    cost = (1/2) * (error)**2\n",
    "    return cost"
   ]
  },
  {
   "cell_type": "markdown",
   "metadata": {},
   "source": [
    "## Now lets convert all into Class Module"
   ]
  },
  {
   "cell_type": "code",
   "execution_count": 47,
   "metadata": {},
   "outputs": [],
   "source": [
    "class NeuralNetwork():\n",
    "    def __init__(self,layer_list = [1,3,1]) -> None:\n",
    "        self.layer_list = layer_list\n",
    "        self.parameters = self.initialize_wights_deep(self.layer_list)\n",
    "\n",
    "    def sigmoid(self,x):\n",
    "        output = 1 / (1 + np.exp(-x))\n",
    "        return output  \n",
    "        \n",
    "    def relu(self,x):\n",
    "        output = np.maximum(0,x)\n",
    "        return output\n",
    "    \n",
    "    def initialize_wights_deep(self,layer_list):\n",
    "        parameters = {}\n",
    "        no_layers = len(layer_list)\n",
    "\n",
    "        for l in range(1, no_layers) :\n",
    "            parameters[\"W\" + str(l)] = np.random.randn(layer_list[l],layer_list[l-1]) * 0.01\n",
    "            parameters[\"b\" + str(l)] = np.random.randn(layer_list[l],1) * 0.01\n",
    "            \n",
    "        return parameters\n",
    "\n",
    "    def deep_forward(self,X):\n",
    "        no_weights = len(self.parameters)//2\n",
    "        A_temp = X\n",
    "        for l in range(1,no_weights):\n",
    "            z = np.dot(self.parameters[\"W\" + str(l)], A_temp) \n",
    "            a = self.relu(z)\n",
    "            A_temp = a\n",
    "        \n",
    "        Z = np.dot(self.parameters[\"W\" + str(no_weights)], A_temp)\n",
    "        A = self.sigmoid(Z)\n",
    "        return A\n",
    "\n",
    "    def cost_function(self,Y, AL) :\n",
    "        # Y is the target\n",
    "        # AL is the predicted output\n",
    "        error = Y - AL\n",
    "        # we will use mean square error\n",
    "        cost = (1/2) * (error)**2\n",
    "        return cost"
   ]
  },
  {
   "cell_type": "code",
   "execution_count": 48,
   "metadata": {},
   "outputs": [],
   "source": [
    "model = NeuralNetwork(layer_list= [3,4,5,6,7,8,9,1])"
   ]
  },
  {
   "cell_type": "code",
   "execution_count": 49,
   "metadata": {},
   "outputs": [],
   "source": [
    "X = np.random.randn(3,1)"
   ]
  },
  {
   "cell_type": "code",
   "execution_count": 50,
   "metadata": {},
   "outputs": [],
   "source": [
    "AL = model.deep_forward(X= X)"
   ]
  },
  {
   "cell_type": "code",
   "execution_count": 51,
   "metadata": {},
   "outputs": [
    {
     "data": {
      "text/plain": [
       "array([[0.125]])"
      ]
     },
     "execution_count": 51,
     "metadata": {},
     "output_type": "execute_result"
    }
   ],
   "source": [
    "model.cost_function(Y=1 , AL= AL)"
   ]
  }
 ],
 "metadata": {
  "kernelspec": {
   "display_name": "swodesh",
   "language": "python",
   "name": "python3"
  },
  "language_info": {
   "codemirror_mode": {
    "name": "ipython",
    "version": 3
   },
   "file_extension": ".py",
   "mimetype": "text/x-python",
   "name": "python",
   "nbconvert_exporter": "python",
   "pygments_lexer": "ipython3",
   "version": "3.10.12"
  }
 },
 "nbformat": 4,
 "nbformat_minor": 2
}
